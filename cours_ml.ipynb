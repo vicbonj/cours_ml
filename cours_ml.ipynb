{
 "cells": [
  {
   "cell_type": "code",
   "execution_count": 40,
   "metadata": {
    "collapsed": false
   },
   "outputs": [],
   "source": [
    "from keras.datasets import mnist\n",
    "from sklearn.neural_network import MLPClassifier\n",
    "from keras.models import Sequential\n",
    "from keras.layers import Dense, Dropout, Flatten\n",
    "from keras.layers import Conv2D, MaxPooling2D\n",
    "from keras import backend as K\n",
    "import keras\n",
    "import numpy as np\n",
    "import matplotlib.pyplot as plt"
   ]
  },
  {
   "cell_type": "markdown",
   "metadata": {},
   "source": [
    "# Some parameters used later"
   ]
  },
  {
   "cell_type": "code",
   "execution_count": 41,
   "metadata": {
    "collapsed": true
   },
   "outputs": [],
   "source": [
    "batch_size = 100\n",
    "num_classes = 10\n",
    "img_rows, img_cols = 28, 28\n",
    "input_shape = (img_rows, img_cols, 1)"
   ]
  },
  {
   "cell_type": "markdown",
   "metadata": {},
   "source": [
    "# Download the MNIST data\n",
    "\n",
    "Training set + test set,\n",
    "and renormalisation of the data"
   ]
  },
  {
   "cell_type": "code",
   "execution_count": 42,
   "metadata": {
    "collapsed": true
   },
   "outputs": [],
   "source": [
    "(x_train, y_train), (x_test, y_test) = mnist.load_data()\n",
    "\n",
    "x_train = x_train.astype('float32')\n",
    "x_test = x_test.astype('float32')\n",
    "x_train /= 255\n",
    "x_test /= 255"
   ]
  },
  {
   "cell_type": "markdown",
   "metadata": {},
   "source": [
    "# Check the data you use ! You can vary the parameter called param"
   ]
  },
  {
   "cell_type": "code",
   "execution_count": 49,
   "metadata": {
    "collapsed": false
   },
   "outputs": [
    {
     "name": "stdout",
     "output_type": "stream",
     "text": [
      "7\n"
     ]
    },
    {
     "data": {
      "image/png": "[encoded data removed]",
      "text/plain": [
       "<Figure size 432x288 with 1 Axes>"
      ]
     },
     "metadata": {},
     "output_type": "display_data"
    },
    {
     "data": {
      "text/plain": [
       "(60000, 28, 28)"
      ]
     },
     "execution_count": 49,
     "metadata": {},
     "output_type": "execute_result"
    }
   ],
   "source": [
    "param = 30001\n",
    "\n",
    "print(y_train[param])\n",
    "plt.imshow(x_train[param])\n",
    "plt.show()\n",
    "x_train.shape"
   ]
  },
  {
   "cell_type": "markdown",
   "metadata": {},
   "source": [
    "Prepare the input data for the ANN Classifier"
   ]
  },
  {
   "cell_type": "code",
   "execution_count": 50,
   "metadata": {
    "collapsed": true
   },
   "outputs": [],
   "source": [
    "x_train_ann = [x_train[i].ravel() for i in range(len(x_train))]\n",
    "x_test_ann = [x_test[i].ravel() for i in range(len(x_test))]"
   ]
  },
  {
   "cell_type": "markdown",
   "metadata": {},
   "source": [
    "# Create the classifier and define hyperparameters"
   ]
  },
  {
   "cell_type": "code",
   "execution_count": 52,
   "metadata": {
    "collapsed": true
   },
   "outputs": [],
   "source": [
    "clf = MLPClassifier(solver='adam', activation='relu', alpha=1e-5, hidden_layer_sizes=(100, 10), random_state=42, verbose=True, batch_size=batch_size, valida\\\n",
    "tion_fraction=0.1, early_stopping=True, n_iter_no_change=12)"
   ]
  },
  {
   "cell_type": "markdown",
   "metadata": {},
   "source": [
    "# Fit the model"
   ]
  },
  {
   "cell_type": "code",
   "execution_count": 53,
   "metadata": {
    "collapsed": false
   },
   "outputs": [
    {
     "name": "stdout",
     "output_type": "stream",
     "text": [
      "Iteration 1, loss = 0.48338240\n",
      "Validation score: 0.941333\n",
      "Iteration 2, loss = 0.17582497\n",
      "Validation score: 0.955833\n",
      "Iteration 3, loss = 0.12684202\n",
      "Validation score: 0.964667\n",
      "Iteration 4, loss = 0.09965734\n",
      "Validation score: 0.966500\n",
      "Iteration 5, loss = 0.08274637\n",
      "Validation score: 0.969333\n",
      "Iteration 6, loss = 0.06810284\n",
      "Validation score: 0.970000\n",
      "Iteration 7, loss = 0.05732939\n",
      "Validation score: 0.974500\n",
      "Iteration 8, loss = 0.04711853\n",
      "Validation score: 0.974833\n",
      "Iteration 9, loss = 0.04109436\n",
      "Validation score: 0.974500\n",
      "Iteration 10, loss = 0.03643381\n",
      "Validation score: 0.974500\n",
      "Iteration 11, loss = 0.02985943\n",
      "Validation score: 0.976667\n",
      "Iteration 12, loss = 0.02545694\n",
      "Validation score: 0.976000\n",
      "Iteration 13, loss = 0.02219335\n",
      "Validation score: 0.974667\n",
      "Iteration 14, loss = 0.01970188\n",
      "Validation score: 0.976000\n",
      "Iteration 15, loss = 0.01745354\n",
      "Validation score: 0.974333\n",
      "Iteration 16, loss = 0.01488910\n",
      "Validation score: 0.974500\n",
      "Iteration 17, loss = 0.01366737\n",
      "Validation score: 0.973667\n",
      "Iteration 18, loss = 0.01148746\n",
      "Validation score: 0.978333\n",
      "Iteration 19, loss = 0.00824988\n",
      "Validation score: 0.976333\n",
      "Iteration 20, loss = 0.00971519\n",
      "Validation score: 0.973833\n",
      "Iteration 21, loss = 0.00870373\n",
      "Validation score: 0.974167\n",
      "Iteration 22, loss = 0.00777073\n",
      "Validation score: 0.976167\n",
      "Iteration 23, loss = 0.00736865\n",
      "Validation score: 0.973667\n",
      "Iteration 24, loss = 0.00736302\n",
      "Validation score: 0.976333\n",
      "Iteration 25, loss = 0.00617424\n",
      "Validation score: 0.977000\n",
      "Iteration 26, loss = 0.00638090\n",
      "Validation score: 0.971833\n",
      "Iteration 27, loss = 0.00489429\n",
      "Validation score: 0.976833\n",
      "Iteration 28, loss = 0.00571301\n",
      "Validation score: 0.971667\n",
      "Iteration 29, loss = 0.00852721\n",
      "Validation score: 0.977167\n",
      "Iteration 30, loss = 0.00235090\n",
      "Validation score: 0.977000\n",
      "Iteration 31, loss = 0.00127219\n",
      "Validation score: 0.979167\n",
      "Iteration 32, loss = 0.01119178\n",
      "Validation score: 0.976333\n",
      "Iteration 33, loss = 0.00416362\n",
      "Validation score: 0.978167\n",
      "Iteration 34, loss = 0.00128419\n",
      "Validation score: 0.977833\n",
      "Iteration 35, loss = 0.00079963\n",
      "Validation score: 0.978333\n",
      "Iteration 36, loss = 0.00063420\n",
      "Validation score: 0.980167\n",
      "Iteration 37, loss = 0.01518016\n",
      "Validation score: 0.975667\n",
      "Iteration 38, loss = 0.00591125\n",
      "Validation score: 0.978333\n",
      "Iteration 39, loss = 0.00240442\n",
      "Validation score: 0.977000\n",
      "Iteration 40, loss = 0.00204434\n",
      "Validation score: 0.979167\n",
      "Iteration 41, loss = 0.00049556\n",
      "Validation score: 0.980000\n",
      "Iteration 42, loss = 0.00033834\n",
      "Validation score: 0.979333\n",
      "Iteration 43, loss = 0.00030139\n",
      "Validation score: 0.980000\n",
      "Iteration 44, loss = 0.00032673\n",
      "Validation score: 0.979833\n",
      "Iteration 45, loss = 0.01798807\n",
      "Validation score: 0.975500\n",
      "Iteration 46, loss = 0.00651445\n",
      "Validation score: 0.975833\n",
      "Iteration 47, loss = 0.00212975\n",
      "Validation score: 0.979500\n",
      "Iteration 48, loss = 0.00161522\n",
      "Validation score: 0.979667\n",
      "Iteration 49, loss = 0.00056760\n",
      "Validation score: 0.981000\n",
      "Iteration 50, loss = 0.00028813\n",
      "Validation score: 0.981667\n",
      "Iteration 51, loss = 0.00025598\n",
      "Validation score: 0.981167\n",
      "Iteration 52, loss = 0.00023708\n",
      "Validation score: 0.981167\n",
      "Iteration 53, loss = 0.00022228\n",
      "Validation score: 0.980833\n",
      "Iteration 54, loss = 0.00021093\n",
      "Validation score: 0.981333\n",
      "Iteration 55, loss = 0.00393410\n",
      "Validation score: 0.964500\n",
      "Iteration 56, loss = 0.02436544\n",
      "Validation score: 0.975500\n",
      "Iteration 57, loss = 0.00238729\n",
      "Validation score: 0.980000\n",
      "Iteration 58, loss = 0.00056234\n",
      "Validation score: 0.980667\n",
      "Iteration 59, loss = 0.00031510\n",
      "Validation score: 0.981333\n",
      "Iteration 60, loss = 0.00026018\n",
      "Validation score: 0.981000\n",
      "Iteration 61, loss = 0.00024034\n",
      "Validation score: 0.981000\n",
      "Iteration 62, loss = 0.00022641\n",
      "Validation score: 0.981333\n",
      "Iteration 63, loss = 0.00021486\n",
      "Validation score: 0.981000\n",
      "Validation score did not improve more than tol=0.000100 for 12 consecutive epochs. Stopping.\n"
     ]
    },
    {
     "data": {
      "text/plain": [
       "MLPClassifier(activation='relu', alpha=1e-05, batch_size=100, beta_1=0.9,\n",
       "       beta_2=0.999, early_stopping=True, epsilon=1e-08,\n",
       "       hidden_layer_sizes=(100, 10), learning_rate='constant',\n",
       "       learning_rate_init=0.001, max_iter=200, momentum=0.9,\n",
       "       n_iter_no_change=12, nesterovs_momentum=True, power_t=0.5,\n",
       "       random_state=42, shuffle=True, solver='adam', tol=0.0001,\n",
       "       validation_fraction=0.1, verbose=True, warm_start=False)"
      ]
     },
     "execution_count": 53,
     "metadata": {},
     "output_type": "execute_result"
    }
   ],
   "source": [
    "clf.fit(x_train_ann, y_train)"
   ]
  },
  {
   "cell_type": "markdown",
   "metadata": {},
   "source": [
    "# Estimate the class for the test set"
   ]
  },
  {
   "cell_type": "code",
   "execution_count": 54,
   "metadata": {
    "collapsed": false
   },
   "outputs": [
    {
     "name": "stdout",
     "output_type": "stream",
     "text": [
      "Score with ANN : 97.82%\n"
     ]
    }
   ],
   "source": [
    "y_estimate = clf.predict(x_test_ann)\n",
    "\n",
    "score = clf.score(x_test_ann, y_test)\n",
    "print('Score with ANN : {}%'.format(np.round(score*100, 2)))"
   ]
  },
  {
   "cell_type": "code",
   "execution_count": 56,
   "metadata": {
    "collapsed": false
   },
   "outputs": [
    {
     "data": {
      "image/png": "[encoded data removed]",
      "text/plain": [
       "<Figure size 432x288 with 1 Axes>"
      ]
     },
     "metadata": {},
     "output_type": "display_data"
    },
    {
     "data": {
      "image/png": "[encoded data removed]",
      "text/plain": [
       "<Figure size 432x288 with 1 Axes>"
      ]
     },
     "metadata": {},
     "output_type": "display_data"
    }
   ],
   "source": [
    "# Plot training & validation accuracy values\n",
    "plt.plot(clf.validation_scores_)\n",
    "plt.title('Model accuracy')\n",
    "plt.ylabel('Accuracy')\n",
    "plt.xlabel('Epoch')\n",
    "plt.legend(['Validation'], loc='upper left')\n",
    "plt.show()\n",
    "\n",
    "# Plot training & validation loss values\n",
    "plt.plot(clf.loss_curve_)\n",
    "plt.title('Model loss')\n",
    "plt.ylabel('Loss')\n",
    "plt.xlabel('Epoch')\n",
    "plt.legend(['Validation'], loc='upper left')\n",
    "plt.show()"
   ]
  },
  {
   "cell_type": "markdown",
   "metadata": {},
   "source": [
    "# Using CNN (Deep Learning)"
   ]
  },
  {
   "cell_type": "code",
   "execution_count": 57,
   "metadata": {
    "collapsed": true
   },
   "outputs": [],
   "source": [
    "#some data processing needed to work with keras\n",
    "y_train_cnn = keras.utils.to_categorical(y_train, num_classes)\n",
    "y_test_cnn = keras.utils.to_categorical(y_test, num_classes)\n",
    "x_train_cnn = np.expand_dims(x_train, -1)\n",
    "x_test_cnn = np.expand_dims(x_test, -1)"
   ]
  },
  {
   "cell_type": "markdown",
   "metadata": {},
   "source": [
    "Here is the convolutional neural network"
   ]
  },
  {
   "cell_type": "code",
   "execution_count": 58,
   "metadata": {
    "collapsed": true
   },
   "outputs": [],
   "source": [
    "model = Sequential()\n",
    "model.add(Conv2D(32, kernel_size=(3, 3),\n",
    "                 activation='relu',\n",
    "                 input_shape=input_shape))\n",
    "model.add(Conv2D(64, (3, 3), activation='relu'))\n",
    "model.add(MaxPooling2D(pool_size=(2, 2)))\n",
    "model.add(Dropout(0.25))\n",
    "model.add(Flatten())\n",
    "model.add(Dense(128, activation='relu'))\n",
    "model.add(Dropout(0.5))\n",
    "model.add(Dense(num_classes, activation='softmax'))"
   ]
  },
  {
   "cell_type": "code",
   "execution_count": 59,
   "metadata": {
    "collapsed": true
   },
   "outputs": [],
   "source": [
    "model.compile(loss=keras.losses.categorical_crossentropy,\n",
    "              optimizer=keras.optimizers.Adam(),\n",
    "              metrics=['accuracy'])"
   ]
  },
  {
   "cell_type": "code",
   "execution_count": 60,
   "metadata": {
    "collapsed": false
   },
   "outputs": [
    {
     "name": "stdout",
     "output_type": "stream",
     "text": [
      "_________________________________________________________________\n",
      "Layer (type)                 Output Shape              Param #   \n",
      "=================================================================\n",
      "conv2d_3 (Conv2D)            (None, 26, 26, 32)        320       \n",
      "_________________________________________________________________\n",
      "conv2d_4 (Conv2D)            (None, 24, 24, 64)        18496     \n",
      "_________________________________________________________________\n",
      "max_pooling2d_2 (MaxPooling2 (None, 12, 12, 64)        0         \n",
      "_________________________________________________________________\n",
      "dropout_3 (Dropout)          (None, 12, 12, 64)        0         \n",
      "_________________________________________________________________\n",
      "flatten_2 (Flatten)          (None, 9216)              0         \n",
      "_________________________________________________________________\n",
      "dense_3 (Dense)              (None, 128)               1179776   \n",
      "_________________________________________________________________\n",
      "dropout_4 (Dropout)          (None, 128)               0         \n",
      "_________________________________________________________________\n",
      "dense_4 (Dense)              (None, 10)                1290      \n",
      "=================================================================\n",
      "Total params: 1,199,882\n",
      "Trainable params: 1,199,882\n",
      "Non-trainable params: 0\n",
      "_________________________________________________________________\n"
     ]
    }
   ],
   "source": [
    "model.summary()"
   ]
  },
  {
   "cell_type": "markdown",
   "metadata": {},
   "source": [
    "# Fit the model with the training set"
   ]
  },
  {
   "cell_type": "code",
   "execution_count": null,
   "metadata": {
    "collapsed": false
   },
   "outputs": [
    {
     "name": "stdout",
     "output_type": "stream",
     "text": [
      "Train on 54000 samples, validate on 6000 samples\n",
      "Epoch 1/5\n",
      " 9400/54000 [====>.........................] - ETA: 2:50 - loss: 0.6339 - acc: 0.7988"
     ]
    }
   ],
   "source": [
    "history = model.fit(x_train_cnn, y_train_cnn,\n",
    "          batch_size=batch_size,\n",
    "          epochs=5,\n",
    "          verbose=1,\n",
    "          validation_split=0.1)"
   ]
  },
  {
   "cell_type": "markdown",
   "metadata": {},
   "source": [
    "Evaluate the class"
   ]
  },
  {
   "cell_type": "code",
   "execution_count": 72,
   "metadata": {
    "collapsed": false
   },
   "outputs": [
    {
     "name": "stdout",
     "output_type": "stream",
     "text": [
      "10000/10000 [==============================] - 11s 1ms/step\n",
      "Score with CNN : 99.06%\n"
     ]
    }
   ],
   "source": [
    "score = model.evaluate(x_test_cnn, y_test_cnn)\n",
    "print('Score with CNN : {}%'.format(np.round(score[1]*100, 2)))"
   ]
  },
  {
   "cell_type": "code",
   "execution_count": 73,
   "metadata": {
    "collapsed": false
   },
   "outputs": [
    {
     "data": {
      "image/png": "[encoded data removed]",
      "text/plain": [
       "<Figure size 432x288 with 1 Axes>"
      ]
     },
     "metadata": {},
     "output_type": "display_data"
    },
    {
     "data": {
      "image/png": "[encoded data removed]",
      "text/plain": [
       "<Figure size 432x288 with 1 Axes>"
      ]
     },
     "metadata": {},
     "output_type": "display_data"
    }
   ],
   "source": [
    "# Plot training & validation accuracy values\n",
    "plt.plot(history.history['acc'])\n",
    "plt.plot(history.history['val_acc'])\n",
    "plt.title('Model accuracy')\n",
    "plt.ylabel('Accuracy')\n",
    "plt.xlabel('Epoch')\n",
    "plt.legend(['Train', 'Validation'], loc='upper left')\n",
    "plt.show()\n",
    "\n",
    "# Plot training & validation loss values\n",
    "plt.plot(history.history['loss'])\n",
    "plt.plot(history.history['val_loss'])\n",
    "plt.title('Model loss')\n",
    "plt.ylabel('Loss')\n",
    "plt.xlabel('Epoch')\n",
    "plt.legend(['Train', 'Validation'], loc='upper left')\n",
    "plt.show()"
   ]
  },
  {
   "cell_type": "code",
   "execution_count": null,
   "metadata": {
    "collapsed": true
   },
   "outputs": [],
   "source": []
  }
 ],
 "metadata": {
  "anaconda-cloud": {},
  "kernelspec": {
   "display_name": "Python [conda env:py36]",
   "language": "python",
   "name": "conda-env-py36-py"
  },
  "language_info": {
   "codemirror_mode": {
    "name": "ipython",
    "version": 3
   },
   "file_extension": ".py",
   "mimetype": "text/x-python",
   "name": "python",
   "nbconvert_exporter": "python",
   "pygments_lexer": "ipython3",
   "version": "3.6.1"
  }
 },
 "nbformat": 4,
 "nbformat_minor": 2
}
